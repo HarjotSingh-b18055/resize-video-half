{
  "nbformat": 4,
  "nbformat_minor": 0,
  "metadata": {
    "colab": {
      "provenance": [],
      "include_colab_link": true
    },
    "kernelspec": {
      "name": "python3",
      "display_name": "Python 3"
    }
  },
  "cells": [
    {
      "cell_type": "markdown",
      "metadata": {
        "id": "view-in-github",
        "colab_type": "text"
      },
      "source": [
        "<a href=\"https://colab.research.google.com/github/HarjotSingh-b18055/resize-video-half/blob/main/Resize_the_Colored_Video_to_50_(smaller).ipynb\" target=\"_parent\"><img src=\"https://colab.research.google.com/assets/colab-badge.svg\" alt=\"Open In Colab\"/></a>"
      ]
    },
    {
      "cell_type": "code",
      "metadata": {
        "id": "7afm_8wfrrOb",
        "colab": {
          "base_uri": "https://localhost:8080/"
        },
        "outputId": "5ea369d0-dfae-4477-bfc4-2ceda2045109"
      },
      "source": [
        "import cv2\n",
        "\n",
        "input_path = '/content/video.mp4'\n",
        "output_path = '/content/resized_video.mp4'\n",
        "\n",
        "cap = cv2.VideoCapture(input_path)\n",
        "width = int(cap.get(cv2.CAP_PROP_FRAME_WIDTH) * 0.5)\n",
        "height = int(cap.get(cv2.CAP_PROP_FRAME_HEIGHT) * 0.5)\n",
        "fps = cap.get(cv2.CAP_PROP_FPS)\n",
        "\n",
        "fourcc = cv2.VideoWriter_fourcc(*'mp4v')\n",
        "out = cv2.VideoWriter(output_path, fourcc, fps, (width, height))\n",
        "\n",
        "if not cap.isOpened():\n",
        "    print(\"Error: Could not open video.\")\n",
        "    exit()\n",
        "\n",
        "while cap.isOpened():\n",
        "    ret, frame = cap.read()\n",
        "    if not ret:\n",
        "        break\n",
        "\n",
        "    resized_frame = cv2.resize(frame, (width, height))\n",
        "    out.write(resized_frame)\n",
        "\n",
        "cap.release()\n",
        "out.release()\n",
        "\n",
        "print(\"Resized video saved at:\", output_path)\n"
      ],
      "execution_count": null,
      "outputs": [
        {
          "output_type": "stream",
          "name": "stdout",
          "text": [
            "Resized video saved at: /content/resized_video.mp4\n"
          ]
        }
      ]
    }
  ]
}